{
 "cells": [
  {
   "cell_type": "code",
   "execution_count": 12,
   "metadata": {},
   "outputs": [],
   "source": [
    "'''import csv, beautiful soup, and requests have notes for pandas'''\n",
    "import csv, requests, os\n",
    "from time import sleep\n",
    "from bs4 import BeautifulSoup\n",
    "from selenium import webdriver\n",
    "from selenium.webdriver.chrome.options import Options\n",
    "from selenium.webdriver.common.keys import Keys\n",
    "from collections import namedtuple"
   ]
  },
  {
   "cell_type": "code",
   "execution_count": 14,
   "metadata": {},
   "outputs": [
    {
     "name": "stdout",
     "output_type": "stream",
     "text": [
      "Lets check my library first. What site are you looking to grab?\n",
      "Please input what's between the example text here: 'http://www.' and '.com/blabla/bla': nametimes\n"
     ]
    }
   ],
   "source": [
    "def existing_check():\n",
    "    print('Lets check my library first. What site are you looking to grab?')\n",
    "    name = str(input(\"Please input what comes between the example text: 'http://www.' and '.com/blabla/bla': \"))\n",
    "#     name = name.strip('').lower()\n",
    "#     use os tools to check library folder for file with website title\n",
    "#     if file exists return filename and run next def (open file and append data)\n",
    "#         else small blurb of non existant and run next def for create_url\n",
    "existing_check()"
   ]
  },
  {
   "cell_type": "code",
   "execution_count": 10,
   "metadata": {},
   "outputs": [
    {
     "name": "stdout",
     "output_type": "stream",
     "text": [
      "To search a homepage, please type in everything after http://www.name.com\n",
      "Does this lead to the site you're looking to digest? y or n: COrrect\n"
     ]
    }
   ],
   "source": [
    "'''mock user interface to grab initial data. maybe combind with upper'''\n",
    "def url_probe():\n",
    "    double_check = True\n",
    "    while(double_check):\n",
    "        name = str(input('To search a homepage, please type in everything after http://'))\n",
    "        site = 'http://'+ name\n",
    "        check = input(\"Does this lead to the site you're looking to digest? y or n: \")\n",
    "        if check.lower() == 'y' or check.lower() == 'yes' or check.lower() == 'correct':\n",
    "            double_check = False\n",
    "    \n",
    "url_probe()"
   ]
  },
  {
   "cell_type": "code",
   "execution_count": 15,
   "metadata": {
    "collapsed": true
   },
   "outputs": [],
   "source": [
    "example = 'http://www.nytimes.com/'"
   ]
  },
  {
   "cell_type": "code",
   "execution_count": null,
   "metadata": {
    "collapsed": true
   },
   "outputs": [],
   "source": [
    "'''\n",
    "try: check for exsiting file \n",
    "    else create file\n",
    "print timestamp of last file open\n",
    "if check for anything in file\n",
    "    else create header format\n",
    "return value of true or false for did it exist before\n",
    "report\n",
    "'''\n",
    "try:\n",
    "    with:\n",
    "    open(example, 'w')\n",
    "    print('timestamp of last opening')\n",
    "except:\n",
    "    with:\n",
    "    open(example, 'w')"
   ]
  },
  {
   "cell_type": "code",
   "execution_count": null,
   "metadata": {
    "collapsed": true
   },
   "outputs": [],
   "source": [
    "'''\n",
    "\n",
    "'''"
   ]
  },
  {
   "cell_type": "code",
   "execution_count": null,
   "metadata": {
    "collapsed": true
   },
   "outputs": [],
   "source": []
  },
  {
   "cell_type": "code",
   "execution_count": null,
   "metadata": {
    "collapsed": true
   },
   "outputs": [],
   "source": []
  },
  {
   "cell_type": "code",
   "execution_count": null,
   "metadata": {
    "collapsed": true
   },
   "outputs": [],
   "source": []
  },
  {
   "cell_type": "code",
   "execution_count": null,
   "metadata": {
    "collapsed": true
   },
   "outputs": [],
   "source": []
  }
 ],
 "metadata": {
  "kernelspec": {
   "display_name": "Python [conda env:anaconda3]",
   "language": "python",
   "name": "conda-env-anaconda3-py"
  },
  "language_info": {
   "codemirror_mode": {
    "name": "ipython",
    "version": 3
   },
   "file_extension": ".py",
   "mimetype": "text/x-python",
   "name": "python",
   "nbconvert_exporter": "python",
   "pygments_lexer": "ipython3",
   "version": "3.6.3"
  }
 },
 "nbformat": 4,
 "nbformat_minor": 2
}
